{
 "cells": [
  {
   "cell_type": "markdown",
   "metadata": {},
   "source": [
    "# Caça ao Tesouro - Projeto"
   ]
  },
  {
   "cell_type": "markdown",
   "metadata": {},
   "source": [
    "O objetivo é encontrar um tesouro escondido em um mapa. O mapa será uma matriz Numpy bidimensiona, em que cada célula representa uma posição no mapa. O tesouro será representado por um número aleatório na matriz, e o jogador deve encontrá-lo o mais rápido possível. O jogador pode se mover em quatro direções: para cima, para baixo, para a esquerda ou para a direita."
   ]
  },
  {
   "cell_type": "markdown",
   "metadata": {},
   "source": [
    "## O jogo terá algumas regras:"
   ]
  },
  {
   "cell_type": "markdown",
   "metadata": {},
   "source": [
    " - O jogador começa na posição (0,0) no mapa.\n",
    " - O jogador só pode se mover para uma posição vizinha(não pode pular células).\n",
    " - O jogo termina quando o tesouro é encontrado.\n",
    " - O jogador receberá uma pontuação com base na quantidade de movimentos que foram necessários para encontrar o tesouro."
   ]
  },
  {
   "cell_type": "markdown",
   "metadata": {},
   "source": [
    "### Recomendações:"
   ]
  },
  {
   "cell_type": "markdown",
   "metadata": {},
   "source": [
    "Tente implementar o jogo com \"andares\", ou seja, matrizes tridimensionais ou maiores, para exercitar o raciocício lógico."
   ]
  },
  {
   "cell_type": "code",
   "execution_count": 1,
   "metadata": {},
   "outputs": [],
   "source": [
    "import numpy as np"
   ]
  },
  {
   "cell_type": "code",
   "execution_count": 7,
   "metadata": {},
   "outputs": [
    {
     "data": {
      "text/plain": [
       "array([[0, 0, 0, 0, 0],\n",
       "       [0, 0, 0, 0, 0],\n",
       "       [0, 0, 0, 0, 0],\n",
       "       [0, 0, 0, 0, 0],\n",
       "       [0, 0, 0, 0, 0]], dtype=int8)"
      ]
     },
     "execution_count": 7,
     "metadata": {},
     "output_type": "execute_result"
    }
   ],
   "source": [
    "mapa = np.zeros([5,5], dtype=\"int8\")\n",
    "mapa"
   ]
  }
 ],
 "metadata": {
  "kernelspec": {
   "display_name": "Python 3",
   "language": "python",
   "name": "python3"
  },
  "language_info": {
   "codemirror_mode": {
    "name": "ipython",
    "version": 3
   },
   "file_extension": ".py",
   "mimetype": "text/x-python",
   "name": "python",
   "nbconvert_exporter": "python",
   "pygments_lexer": "ipython3",
   "version": "3.12.2"
  }
 },
 "nbformat": 4,
 "nbformat_minor": 2
}
